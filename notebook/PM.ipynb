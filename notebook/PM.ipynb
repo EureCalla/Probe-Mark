{
 "cells": [
  {
   "cell_type": "markdown",
   "metadata": {},
   "source": [
    "# 資料預處理"
   ]
  },
  {
   "cell_type": "code",
   "execution_count": null,
   "metadata": {},
   "outputs": [],
   "source": [
    "import sys\n",
    "import os\n",
    " \n",
    "root_dir = os.path.abspath(os.path.join(os.path.abspath(''), '..'))\n",
    "sys.path.insert(0, root_dir)\n",
    "\n",
    "from probe_mark.dataset_Della.get_img import create_folders,get_img,make_folder,get_img_label,get_img_mask\n",
    "# import sys\n",
    "# import os\n",
    " \n",
    "# sys.path.insert(0, os.path.abspath(os.path.join(os.path.abspath(''), '..')))"
   ]
  },
  {
   "cell_type": "code",
   "execution_count": null,
   "metadata": {},
   "outputs": [],
   "source": [
    "import pandas as pd\n",
    "# from get_img import create_folders,get_img,make_folder,get_img_label,get_image\n",
    "\n",
    "import os\n",
    "\n",
    "from datetime import datetime\n",
    "nowdir = os.getcwd()# 現在目錄\n",
    "nowpath=root_dir+\"\\\\data\\\\processed\"\n",
    "current_date = datetime.now()# 抓取現在的日期\n",
    "formatted_date = current_date.strftime(\"%Y%m%d\")# 格式化日期為所需格式\n",
    "\n",
    "folder_path=make_folder(path=nowpath, folder_name='rowdata',date=formatted_date)\n"
   ]
  },
  {
   "cell_type": "code",
   "execution_count": null,
   "metadata": {},
   "outputs": [],
   "source": [
    "\n",
    "folder_name = 'Artificial_VR22_D4070_MW120F-HS'\n",
    "base_output_dir=make_folder(path=folder_path, folder_name=folder_name)\n",
    "# 讀取 Excel 檔案中的特定 sheet\n",
    "file_path = root_dir+'\\\\data\\\\raw\\\\'+folder_name+'\\\\picture.xlsx'\n",
    "sheet_name = '主要'\n",
    "# 讀取指定 sheet，並跳過第一行，同時指定新的欄位名稱\n",
    "df = pd.read_excel(file_path, sheet_name=sheet_name, header=1, names=['name', 'img'])\n",
    "img_name_list=df['name']  # 資料夾名稱列表\n",
    "# filtered_list = [name for name in img_name_list if 'blank' not in name]\n",
    "# 建立資料夾儲存圖片\n",
    "created_folders = create_folders(base_output_dir, img_name_list)\n",
    "get_img(file_path, sheet_name, created_folders,'original')"
   ]
  },
  {
   "cell_type": "code",
   "execution_count": null,
   "metadata": {},
   "outputs": [],
   "source": [
    "\n",
    "# 讀取 Excel 檔案中的特定 sheet\n",
    "sheet_name = '體積面積量測'\n",
    "# # 建立資料夾儲存圖片\n",
    "get_img(file_path, sheet_name, created_folders,'red_mark')\n"
   ]
  },
  {
   "cell_type": "code",
   "execution_count": null,
   "metadata": {},
   "outputs": [],
   "source": [
    "# 使用範例\n",
    "for i in range(len(created_folders)):\n",
    "    image_path1 = created_folders[i] + '\\\\original.png'\n",
    "    image_path2 = created_folders[i] + '\\\\red_mark.png'\n",
    "    image_path3 = created_folders[i] + '\\\\mask.png'\n",
    "    image_path4 = created_folders[i] + '\\\\label.png'\n",
    "    get_img_mask(image_path1, image_path2, image_path3)\n",
    "    get_img_label(image_path1, image_path2, image_path4)"
   ]
  },
  {
   "cell_type": "markdown",
   "metadata": {},
   "source": [
    "# 資料訓練"
   ]
  },
  {
   "cell_type": "code",
   "execution_count": 2,
   "metadata": {},
   "outputs": [],
   "source": [
    "folder_path=r'D:\\github\\Probe-Mark\\data\\processed\\rowdata_20240813'"
   ]
  },
  {
   "cell_type": "code",
   "execution_count": 3,
   "metadata": {},
   "outputs": [
    {
     "data": {
      "text/plain": [
       "(234, 234)"
      ]
     },
     "execution_count": 3,
     "metadata": {},
     "output_type": "execute_result"
    }
   ],
   "source": [
    "import os\n",
    "\n",
    "def find_png(folder_path,img_name):\n",
    "    img_paths = []\n",
    "    for root, dirs, files in os.walk(folder_path):\n",
    "        for file in files:\n",
    "            if file == img_name:\n",
    "                img_paths.append(os.path.join(root, file))\n",
    "    return img_paths\n",
    "\n",
    "\n",
    "label_paths = find_png(folder_path,\"label.png\")\n",
    "orig_paths = find_png(folder_path,\"original.png\")\n",
    "\n",
    "len(label_paths),len(orig_paths)"
   ]
  },
  {
   "cell_type": "markdown",
   "metadata": {},
   "source": [
    "### 拆分資料集"
   ]
  },
  {
   "cell_type": "code",
   "execution_count": 23,
   "metadata": {},
   "outputs": [
    {
     "name": "stdout",
     "output_type": "stream",
     "text": [
      "D:\\github\\Probe-Mark\\data\\processed\\rowdata_20240813\\Artificial_VM_D80_MW120F-HS\\25-OD75-1\\label.png 184\n",
      "D:\\github\\Probe-Mark\\data\\processed\\rowdata_20240813\\Artificial_VM_D80_MW120F-HS\\25-OD75-1\\original.png 184\n",
      "D:\\github\\Probe-Mark\\data\\processed\\rowdata_20240813\\Artificial_VR29_D4070_thimble_5g\\Die1-7-3-5g\\label.png 50\n",
      "D:\\github\\Probe-Mark\\data\\processed\\rowdata_20240813\\Artificial_VR29_D4070_thimble_5g\\Die1-7-3-5g\\original.png 50\n"
     ]
    }
   ],
   "source": [
    "import os\n",
    "from sklearn.model_selection import train_test_split\n",
    "from collections import defaultdict\n",
    "\n",
    "def group_paths_by_folder(paths):\n",
    "    # 創建一個默認字典來存儲按第三層資料夾分類的路徑\n",
    "    paths_by_folder = defaultdict(list)\n",
    "    \n",
    "    for path in paths:\n",
    "        # 根據split取得第三層資料夾名稱\n",
    "        folder_name = path.split(os.sep)[-3]\n",
    "        paths_by_folder[folder_name].append(path)\n",
    "    \n",
    "    return paths_by_folder\n",
    "\n",
    "def split_paths_by_folder_sklearn(paths, train_ratio=0.8):\n",
    "    paths_by_folder = group_paths_by_folder(paths)\n",
    "    \n",
    "    # 初始化訓練集和測試集\n",
    "    train_paths = []\n",
    "    test_paths = []\n",
    "\n",
    "    for folder, folder_paths in paths_by_folder.items():\n",
    "        # 使用sklearn的train_test_split進行拆分\n",
    "        train, test = train_test_split(folder_paths, train_size=train_ratio, random_state=42)\n",
    "        train_paths.extend(train)\n",
    "        test_paths.extend(test)\n",
    "    \n",
    "    return train_paths, test_paths\n",
    "\n",
    "# 對label_paths進行拆分\n",
    "train_label_paths, test_label_paths = split_paths_by_folder_sklearn(label_paths)\n",
    "\n",
    "# 對orig_paths進行拆分\n",
    "train_orig_paths, test_orig_paths = split_paths_by_folder_sklearn(orig_paths)\n",
    "\n",
    "# 打印結果\n",
    "i=49\n",
    "print(train_label_paths[i],len(train_label_paths))\n",
    "print(train_orig_paths[i],len(train_orig_paths))\n",
    "print(test_label_paths[i],len(test_label_paths))\n",
    "print(test_orig_paths[i],len(test_orig_paths))"
   ]
  },
  {
   "cell_type": "markdown",
   "metadata": {},
   "source": [
    "### 準備數據集"
   ]
  },
  {
   "cell_type": "code",
   "execution_count": 24,
   "metadata": {},
   "outputs": [],
   "source": [
    "import os\n",
    "from PIL import Image\n",
    "import torch\n",
    "from torch.utils.data import Dataset, DataLoader\n",
    "import torch\n",
    "import torchvision.transforms.v2 as T\n",
    "import torchvision.tv_tensors as tv_tensors\n",
    "# 設置訓練的設備（GPU/CPU）\n",
    "device = torch.device(\"cuda\" if torch.cuda.is_available() else \"cpu\")"
   ]
  },
  {
   "cell_type": "code",
   "execution_count": 33,
   "metadata": {},
   "outputs": [],
   "source": [
    "# 定義自訂義的資料集類別，用於語意分割任務\n",
    "class SegmentationDataset(Dataset):\n",
    "    def __init__(self, orig_paths, label_paths, transform=None):\n",
    "        \"\"\"\n",
    "        初始化資料集類別。\n",
    "        \n",
    "        參數:\n",
    "        - orig_paths: 原始影像的檔案路徑列表。\n",
    "        - label_paths: 標籤影像的檔案路徑列表。\n",
    "        - transform: 用於影像與標籤的轉換操作（如大小調整、格式轉換等）。\n",
    "        \"\"\"\n",
    "        self.orig_paths = orig_paths # 儲存原始影像的路徑列表\n",
    "        self.label_paths = label_paths # 儲存標籤影像的路徑列表\n",
    "        self.transform = transform # 儲存轉換操作\n",
    "\n",
    "    def __len__(self):\n",
    "        \"\"\"\n",
    "        返回資料集的大小（即原始影像的數量）。\n",
    "        \"\"\"\n",
    "        return len(self.orig_paths)\n",
    "\n",
    "    def __getitem__(self, idx):\n",
    "        \"\"\"\n",
    "        根據索引idx獲取對應的原始影像和標籤影像。\n",
    "        \n",
    "        參數:\n",
    "        - idx: 索引值，用於提取對應的影像和標籤。\n",
    "        \n",
    "        返回:\n",
    "        - orig_image: 經過轉換後的原始影像。\n",
    "        - label_image: 經過轉換後的標籤影像。\n",
    "        \"\"\"\n",
    "        orig_image = Image.open(self.orig_paths[idx]).convert(\"RGB\") # 打開原始影像並將其轉換為RGB模式\n",
    "        label_image = Image.open(self.label_paths[idx]).convert(\"L\") # 打開標籤影像並將其轉換為單通道模式 (L mode)\n",
    "\n",
    "        if self.transform:\n",
    "            label_image = tv_tensors.Mask(label_image) # 將標籤影像轉換為Mask格式\n",
    "            orig_image, label_image = self.transform(orig_image, label_image) # 同時轉換原始影像和標籤影像\n",
    "        # 返回轉換後的原始影像和標籤影像\n",
    "        # orig_image = (3,224,224) 為三通道（RGB）的影像\n",
    "        # label_image = (1,224,224) 為單通道（灰階）的影像\n",
    "        return orig_image, label_image\n",
    "\n",
    "# 定義基本的影像轉換操作，將影像縮放到224x224，並轉換數據類型為float32和int64\n",
    "BASIC_TRANSFORMS = T.Compose(\n",
    "    [\n",
    "        T.ToImage(),  # 將影像轉換為PIL格式或其他影像格式\n",
    "        T.Resize(size=(224, 224)),  # 將影像縮放到224x224像素\n",
    "        T.ToDtype(\n",
    "            dtype={\n",
    "                tv_tensors.Image: torch.float32,  # 原始影像轉換為浮點數格式\n",
    "                tv_tensors.Mask: torch.int64,     # 標籤影像轉換為整數格式\n",
    "                \"others\": None,                   # 其他類型不進行轉換\n",
    "            },\n",
    "            scale=True,  # 將影像像素值縮放到[0,1]區間\n",
    "        )\n",
    "    ]\n",
    ")\n",
    "\n",
    "# 創建資料集對象\n",
    "dataset = SegmentationDataset(train_orig_paths, train_label_paths, transform=BASIC_TRANSFORMS)\n",
    "dataloader=DataLoader(dataset, batch_size=4, shuffle=True)#包裝到DataLoader中，指定批次大小batch_size，且打亂順序\n",
    "\n",
    "# dataset = SegmentationDataset(orig_paths, label_paths, transform=BASIC_TRANSFORMS) #通通拿來訓練\n",
    "# dataset[0][1][0][100:120, 100:120]"
   ]
  },
  {
   "cell_type": "code",
   "execution_count": 34,
   "metadata": {},
   "outputs": [],
   "source": [
    "# for epoch in range(1):\n",
    "#     for orig_image, label_image in dataloader:\n",
    "#         orig_image = orig_image.cuda()\n",
    "#         label_image = label_image.cuda()\n",
    "\n",
    "#         print(orig_image.device, label_image.device)\n",
    "#         print(orig_image.shape, label_image.shape)\n"
   ]
  },
  {
   "cell_type": "markdown",
   "metadata": {},
   "source": [
    "### 定義模型架構(VGG16)"
   ]
  },
  {
   "cell_type": "code",
   "execution_count": 35,
   "metadata": {},
   "outputs": [],
   "source": [
    "import torch\n",
    "import torch.nn as nn\n",
    "import torch.nn.functional as F\n",
    "import torchvision.models as models"
   ]
  },
  {
   "cell_type": "code",
   "execution_count": 36,
   "metadata": {},
   "outputs": [],
   "source": [
    "class VGG16(nn.Module):\n",
    "    def __init__(self,classes=2):\n",
    "        super().__init__()\n",
    "        # 卷積層\n",
    "        self.block_1=nn.Sequential(\n",
    "            nn.Conv2d(3, 64, kernel_size=3, padding=1),\n",
    "            nn.ReLU(inplace=True),\n",
    "            nn.Conv2d(64, 64, kernel_size=3, padding=1),\n",
    "            nn.ReLU()\n",
    "        )\n",
    "        self.block_2=nn.Sequential(\n",
    "            nn.MaxPool2d(kernel_size=2, stride=2),\n",
    "            nn.Conv2d(64, 128, kernel_size=3, padding=1),\n",
    "            nn.ReLU(inplace=True),\n",
    "            nn.Conv2d(128, 128, kernel_size=3, padding=1),\n",
    "            nn.ReLU()\n",
    "        )\n",
    "        self.block_3=nn.Sequential(\n",
    "            nn.MaxPool2d(kernel_size=2, stride=2),\n",
    "            nn.Conv2d(128, 256, kernel_size=3, padding=1),\n",
    "            nn.ReLU(inplace=True),\n",
    "            nn.Conv2d(256, 256, kernel_size=3, padding=1),\n",
    "            nn.ReLU(inplace=True)\n",
    "        )\n",
    "        self.block_4=nn.Sequential(\n",
    "            nn.MaxPool2d(kernel_size=2, stride=2),\n",
    "            nn.Conv2d(256, 512, kernel_size=3, padding=1),\n",
    "            nn.ReLU(inplace=True),\n",
    "            nn.Conv2d(512, 512, kernel_size=3, padding=1),\n",
    "            nn.ReLU(inplace=True)\n",
    "        )\n",
    "        self.block_5=nn.Sequential(\n",
    "            nn.MaxPool2d(kernel_size=2, stride=2),\n",
    "            nn.Conv2d(512, 512, kernel_size=3, padding=1),\n",
    "            nn.ReLU(inplace=True),\n",
    "            nn.Conv2d(512, 512, kernel_size=3, padding=1),\n",
    "            nn.ReLU(inplace=True)\n",
    "        )\n",
    "        # self.block_6=nn.Sequential(\n",
    "        #     nn.MaxPool2d(kernel_size=2, stride=2),\n",
    "        # )\n",
    "        # # 全連接層\n",
    "        # self.classifier=nn.Sequential(\n",
    "        #     nn.Flatten(),\n",
    "        #     nn.Linear(512*7*7, 4096),\n",
    "        #     nn.ReLU(inplace=True),\n",
    "        #     nn.Dropout(),\n",
    "        #     nn.Linear(4096, 4096),\n",
    "        #     nn.ReLU(inplace=True),\n",
    "        #     nn.Dropout(),\n",
    "        #     nn.Linear(4096,classes)\n",
    "        # )\n",
    "        # 上採樣層 (反卷積)\n",
    "        self.upsample = nn.Sequential(\n",
    "            nn.ConvTranspose2d(512, 512, kernel_size=3, stride=2, padding=1, output_padding=1),\n",
    "            nn.ReLU(inplace=True),\n",
    "            nn.ConvTranspose2d(512, 256, kernel_size=3, stride=2, padding=1, output_padding=1),\n",
    "            nn.ReLU(inplace=True),\n",
    "            nn.ConvTranspose2d(256, 128, kernel_size=3, stride=2, padding=1, output_padding=1),\n",
    "            nn.ReLU(inplace=True),\n",
    "            nn.ConvTranspose2d(128, 1, kernel_size=3, stride=2, padding=1, output_padding=1),\n",
    "            # nn.ReLU(inplace=True),\n",
    "            # nn.ConvTranspose2d(64, 1, kernel_size=3, stride=2, padding=1, output_padding=1),\n",
    "            nn.Sigmoid()  # 輸出範圍在0到1\n",
    "        )\n",
    "\n",
    "    def forward(self, x):\n",
    "        # 提取特徵\n",
    "        x = self.block_1(x)\n",
    "        x = self.block_2(x)\n",
    "        x = self.block_3(x)\n",
    "        x = self.block_4(x)\n",
    "        x = self.block_5(x)\n",
    "        # x = self.block_6(x)\n",
    "        # # # 展平進入全連接層(PCN不會用到)\n",
    "        # # x = x.flatten(1)\n",
    "        # # x = self.classifier(x)\n",
    "        # # 不使用全連接層，直接進行上採樣\n",
    "        x = self.upsample(x)\n",
    "        return x\n"
   ]
  },
  {
   "cell_type": "code",
   "execution_count": 37,
   "metadata": {},
   "outputs": [
    {
     "name": "stdout",
     "output_type": "stream",
     "text": [
      "input_tensor: torch.Size([1, 3, 224, 224])\n",
      "label_tensor: torch.Size([1, 1, 224, 224])\n",
      "outputs: torch.Size([1, 1, 224, 224])\n",
      "loss: 0.8631927371025085\n"
     ]
    }
   ],
   "source": [
    "input_tensor = torch.randn(1, 3, 224, 224).to(device)\n",
    "label_tensor = torch.randint(0, 1, (1, 1, 224, 224)).float().to(device)\n",
    "model = VGG16(classes=2).cuda()\n",
    "# model = UNet().to(device)\n",
    "\n",
    "outputs=model(input_tensor)\n",
    "print(\"input_tensor:\",input_tensor.shape)\n",
    "print(\"label_tensor:\",label_tensor.shape)\n",
    "print(\"outputs:\",outputs.shape)\n",
    "\n",
    "# 計算損失\n",
    "criterion = nn.BCELoss().to(device)\n",
    "loss = criterion(outputs, label_tensor)\n",
    "print(\"loss:\",loss.item())"
   ]
  },
  {
   "cell_type": "code",
   "execution_count": 38,
   "metadata": {},
   "outputs": [
    {
     "name": "stdout",
     "output_type": "stream",
     "text": [
      "VGG16(\n",
      "  (block_1): Sequential(\n",
      "    (0): Conv2d(3, 64, kernel_size=(3, 3), stride=(1, 1), padding=(1, 1))\n",
      "    (1): ReLU(inplace=True)\n",
      "    (2): Conv2d(64, 64, kernel_size=(3, 3), stride=(1, 1), padding=(1, 1))\n",
      "    (3): ReLU()\n",
      "  )\n",
      "  (block_2): Sequential(\n",
      "    (0): MaxPool2d(kernel_size=2, stride=2, padding=0, dilation=1, ceil_mode=False)\n",
      "    (1): Conv2d(64, 128, kernel_size=(3, 3), stride=(1, 1), padding=(1, 1))\n",
      "    (2): ReLU(inplace=True)\n",
      "    (3): Conv2d(128, 128, kernel_size=(3, 3), stride=(1, 1), padding=(1, 1))\n",
      "    (4): ReLU()\n",
      "  )\n",
      "  (block_3): Sequential(\n",
      "    (0): MaxPool2d(kernel_size=2, stride=2, padding=0, dilation=1, ceil_mode=False)\n",
      "    (1): Conv2d(128, 256, kernel_size=(3, 3), stride=(1, 1), padding=(1, 1))\n",
      "    (2): ReLU(inplace=True)\n",
      "    (3): Conv2d(256, 256, kernel_size=(3, 3), stride=(1, 1), padding=(1, 1))\n",
      "    (4): ReLU(inplace=True)\n",
      "  )\n",
      "  (block_4): Sequential(\n",
      "    (0): MaxPool2d(kernel_size=2, stride=2, padding=0, dilation=1, ceil_mode=False)\n",
      "    (1): Conv2d(256, 512, kernel_size=(3, 3), stride=(1, 1), padding=(1, 1))\n",
      "    (2): ReLU(inplace=True)\n",
      "    (3): Conv2d(512, 512, kernel_size=(3, 3), stride=(1, 1), padding=(1, 1))\n",
      "    (4): ReLU(inplace=True)\n",
      "  )\n",
      "  (block_5): Sequential(\n",
      "    (0): MaxPool2d(kernel_size=2, stride=2, padding=0, dilation=1, ceil_mode=False)\n",
      "    (1): Conv2d(512, 512, kernel_size=(3, 3), stride=(1, 1), padding=(1, 1))\n",
      "    (2): ReLU(inplace=True)\n",
      "    (3): Conv2d(512, 512, kernel_size=(3, 3), stride=(1, 1), padding=(1, 1))\n",
      "    (4): ReLU(inplace=True)\n",
      "  )\n",
      "  (upsample): Sequential(\n",
      "    (0): ConvTranspose2d(512, 512, kernel_size=(3, 3), stride=(2, 2), padding=(1, 1), output_padding=(1, 1))\n",
      "    (1): ReLU(inplace=True)\n",
      "    (2): ConvTranspose2d(512, 256, kernel_size=(3, 3), stride=(2, 2), padding=(1, 1), output_padding=(1, 1))\n",
      "    (3): ReLU(inplace=True)\n",
      "    (4): ConvTranspose2d(256, 128, kernel_size=(3, 3), stride=(2, 2), padding=(1, 1), output_padding=(1, 1))\n",
      "    (5): ReLU(inplace=True)\n",
      "    (6): ConvTranspose2d(128, 1, kernel_size=(3, 3), stride=(2, 2), padding=(1, 1), output_padding=(1, 1))\n",
      "    (7): Sigmoid()\n",
      "  )\n",
      ")\n"
     ]
    }
   ],
   "source": [
    "print(model) #打印出的模型結構是init不一定是forward"
   ]
  },
  {
   "cell_type": "markdown",
   "metadata": {},
   "source": [
    "### 定義模型架構(UNet)\n",
    "https://lmb.informatik.uni-freiburg.de/people/ronneber/u-net/"
   ]
  },
  {
   "cell_type": "code",
   "execution_count": null,
   "metadata": {},
   "outputs": [],
   "source": [
    "import torch\n",
    "import torch.nn as nn\n",
    "\n",
    "class ConvBlock(nn.Module):\n",
    "    def __init__(self, in_channels, out_channels):\n",
    "        super(ConvBlock, self).__init__()\n",
    "        self.conv = nn.Sequential(\n",
    "            nn.Conv2d(in_channels, out_channels, kernel_size=3, padding=1),\n",
    "            nn.ReLU(inplace=True),\n",
    "            nn.Conv2d(out_channels, out_channels, kernel_size=3, padding=1),\n",
    "            nn.ReLU(inplace=True)\n",
    "        )\n",
    "\n",
    "    def forward(self, x):\n",
    "        return self.conv(x)\n"
   ]
  },
  {
   "cell_type": "code",
   "execution_count": null,
   "metadata": {},
   "outputs": [],
   "source": [
    "class Encoder(nn.Module):\n",
    "    def __init__(self, in_channels, out_channels):\n",
    "        super(Encoder, self).__init__()\n",
    "        self.conv_block = ConvBlock(in_channels, out_channels)\n",
    "        self.pool = nn.MaxPool2d(kernel_size=2, stride=2)\n",
    "\n",
    "    def forward(self, x):\n",
    "        x = self.conv_block(x)\n",
    "        return self.pool(x), x  # 返回池化後的張量和卷積塊的輸出（用於跳躍連接）\n"
   ]
  },
  {
   "cell_type": "code",
   "execution_count": null,
   "metadata": {},
   "outputs": [],
   "source": [
    "class Decoder(nn.Module):\n",
    "    def __init__(self, in_channels, out_channels):\n",
    "        super(Decoder, self).__init__()\n",
    "        self.upconv = nn.ConvTranspose2d(in_channels, out_channels, kernel_size=2, stride=2)\n",
    "        self.conv_block = ConvBlock(in_channels, out_channels)\n",
    "\n",
    "    def forward(self, x, skip):\n",
    "        x = self.upconv(x)\n",
    "        x = torch.cat((x, skip), dim=1)  # 拼接（跳躍連接）\n",
    "        return self.conv_block(x)\n"
   ]
  },
  {
   "cell_type": "code",
   "execution_count": null,
   "metadata": {},
   "outputs": [],
   "source": [
    "class UNet(nn.Module):\n",
    "    def __init__(self):\n",
    "        super(UNet, self).__init__()\n",
    "        self.encoder1 = Encoder(3, 64)\n",
    "        self.encoder2 = Encoder(64, 128)\n",
    "        self.encoder3 = Encoder(128, 256)\n",
    "        self.encoder4 = Encoder(256, 512)\n",
    "\n",
    "        self.bottleneck = ConvBlock(512, 1024)\n",
    "\n",
    "        self.decoder4 = Decoder(1024, 512)\n",
    "        self.decoder3 = Decoder(512, 256)\n",
    "        self.decoder2 = Decoder(256, 128)\n",
    "        self.decoder1 = Decoder(128, 64)\n",
    "\n",
    "        self.final_conv = nn.Conv2d(64, 1, kernel_size=1)\n",
    "        self.sigmoid = nn.Sigmoid()\n",
    "\n",
    "    def forward(self, x):\n",
    "        # 編碼過程\n",
    "        x1, skip1 = self.encoder1(x)\n",
    "        x2, skip2 = self.encoder2(x1)\n",
    "        x3, skip3 = self.encoder3(x2)\n",
    "        x4, skip4 = self.encoder4(x3)\n",
    "\n",
    "        # 瓶頸層\n",
    "        x5 = self.bottleneck(x4)\n",
    "\n",
    "        # 解碼過程\n",
    "        x = self.decoder4(x5, skip4)\n",
    "        x = self.decoder3(x, skip3)\n",
    "        x = self.decoder2(x, skip2)\n",
    "        x = self.decoder1(x, skip1)\n",
    "        x = self.final_conv(x)\n",
    "        x = self.sigmoid(x)\n",
    "        return x"
   ]
  },
  {
   "cell_type": "markdown",
   "metadata": {},
   "source": [
    "### 訓練模型"
   ]
  },
  {
   "cell_type": "code",
   "execution_count": 39,
   "metadata": {},
   "outputs": [
    {
     "name": "stdout",
     "output_type": "stream",
     "text": [
      "VGG16(\n",
      "  (block_1): Sequential(\n",
      "    (0): Conv2d(3, 64, kernel_size=(3, 3), stride=(1, 1), padding=(1, 1))\n",
      "    (1): ReLU(inplace=True)\n",
      "    (2): Conv2d(64, 64, kernel_size=(3, 3), stride=(1, 1), padding=(1, 1))\n",
      "    (3): ReLU()\n",
      "  )\n",
      "  (block_2): Sequential(\n",
      "    (0): MaxPool2d(kernel_size=2, stride=2, padding=0, dilation=1, ceil_mode=False)\n",
      "    (1): Conv2d(64, 128, kernel_size=(3, 3), stride=(1, 1), padding=(1, 1))\n",
      "    (2): ReLU(inplace=True)\n",
      "    (3): Conv2d(128, 128, kernel_size=(3, 3), stride=(1, 1), padding=(1, 1))\n",
      "    (4): ReLU()\n",
      "  )\n",
      "  (block_3): Sequential(\n",
      "    (0): MaxPool2d(kernel_size=2, stride=2, padding=0, dilation=1, ceil_mode=False)\n",
      "    (1): Conv2d(128, 256, kernel_size=(3, 3), stride=(1, 1), padding=(1, 1))\n",
      "    (2): ReLU(inplace=True)\n",
      "    (3): Conv2d(256, 256, kernel_size=(3, 3), stride=(1, 1), padding=(1, 1))\n",
      "    (4): ReLU(inplace=True)\n",
      "  )\n",
      "  (block_4): Sequential(\n",
      "    (0): MaxPool2d(kernel_size=2, stride=2, padding=0, dilation=1, ceil_mode=False)\n",
      "    (1): Conv2d(256, 512, kernel_size=(3, 3), stride=(1, 1), padding=(1, 1))\n",
      "    (2): ReLU(inplace=True)\n",
      "    (3): Conv2d(512, 512, kernel_size=(3, 3), stride=(1, 1), padding=(1, 1))\n",
      "    (4): ReLU(inplace=True)\n",
      "  )\n",
      "  (block_5): Sequential(\n",
      "    (0): MaxPool2d(kernel_size=2, stride=2, padding=0, dilation=1, ceil_mode=False)\n",
      "    (1): Conv2d(512, 512, kernel_size=(3, 3), stride=(1, 1), padding=(1, 1))\n",
      "    (2): ReLU(inplace=True)\n",
      "    (3): Conv2d(512, 512, kernel_size=(3, 3), stride=(1, 1), padding=(1, 1))\n",
      "    (4): ReLU(inplace=True)\n",
      "  )\n",
      "  (upsample): Sequential(\n",
      "    (0): ConvTranspose2d(512, 512, kernel_size=(3, 3), stride=(2, 2), padding=(1, 1), output_padding=(1, 1))\n",
      "    (1): ReLU(inplace=True)\n",
      "    (2): ConvTranspose2d(512, 256, kernel_size=(3, 3), stride=(2, 2), padding=(1, 1), output_padding=(1, 1))\n",
      "    (3): ReLU(inplace=True)\n",
      "    (4): ConvTranspose2d(256, 128, kernel_size=(3, 3), stride=(2, 2), padding=(1, 1), output_padding=(1, 1))\n",
      "    (5): ReLU(inplace=True)\n",
      "    (6): ConvTranspose2d(128, 1, kernel_size=(3, 3), stride=(2, 2), padding=(1, 1), output_padding=(1, 1))\n",
      "    (7): Sigmoid()\n",
      "  )\n",
      ")\n"
     ]
    }
   ],
   "source": [
    "import torch.optim as optim\n",
    "import torch.nn as nn\n",
    "\n",
    "# model = UNet()\n",
    "model = VGG16()\n",
    "model = model.to(device)  # 將模型移動到 GPU\n",
    "print(model)\n"
   ]
  },
  {
   "cell_type": "code",
   "execution_count": 40,
   "metadata": {},
   "outputs": [
    {
     "name": "stdout",
     "output_type": "stream",
     "text": [
      "Epoch 1/10, Loss: 1.5751\n",
      "Epoch 2/10, Loss: 0.5301\n",
      "Epoch 3/10, Loss: 0.2716\n",
      "Epoch 4/10, Loss: 0.1948\n",
      "Epoch 5/10, Loss: 0.1517\n",
      "Epoch 6/10, Loss: 0.1464\n",
      "Epoch 7/10, Loss: 0.1140\n",
      "Epoch 8/10, Loss: 0.1025\n",
      "Epoch 9/10, Loss: 0.1180\n",
      "Epoch 10/10, Loss: 0.1041\n",
      "Finished Training\n"
     ]
    }
   ],
   "source": [
    "\n",
    "\n",
    "# 定義損失函數和優化器\n",
    "criterion = nn.BCELoss()  # 或者 nn.CrossEntropyLoss()多分類 根據你的需求\n",
    "optimizer = optim.Adam(model.parameters(), lr=0.0001)\n",
    "num_epochs = 10  # 訓練的回合數\n",
    "\n",
    "model.train()  # 設置模型為訓練模式\n",
    "loss_values = []# 初始化列表來記錄損失值\n",
    "for epoch in range(num_epochs):\n",
    "    running_loss = 0.0\n",
    "    for orig_image, label_image in dataloader:\n",
    "        orig_image = orig_image.to(device)\n",
    "        label_image = label_image.to(device)\n",
    "\n",
    "        optimizer.zero_grad()\n",
    "        outputs = model(orig_image)\n",
    "\n",
    "        # 計算損失\n",
    "        loss = criterion(outputs, label_image.float())  # 確保標籤和輸出數據類型一致\n",
    "\n",
    "        loss.backward()\n",
    "        optimizer.step()\n",
    "        running_loss += loss.item() * orig_image.size(0)\n",
    "\n",
    "    epoch_loss = running_loss / len(dataloader)\n",
    "    loss_values.append(epoch_loss)  # 記錄損失值\n",
    "    print(f\"Epoch {epoch+1}/{num_epochs}, Loss: {epoch_loss:.4f}\")\n",
    "\n",
    "print(\"Finished Training\")"
   ]
  },
  {
   "cell_type": "code",
   "execution_count": 41,
   "metadata": {},
   "outputs": [
    {
     "data": {
      "image/png": "[encoded data removed]",
      "text/plain": [
       "<Figure size 1000x600 with 1 Axes>"
      ]
     },
     "metadata": {},
     "output_type": "display_data"
    }
   ],
   "source": [
    "import matplotlib.pyplot as plt\n",
    "\n",
    "# 繪製損失曲線\n",
    "plt.figure(figsize=(10, 6))\n",
    "plt.plot(range(1, num_epochs + 1), loss_values, marker='o')\n",
    "plt.xlabel('Epoch')\n",
    "plt.ylabel('Loss')\n",
    "plt.title('Loss over Epochs')\n",
    "plt.grid(True)\n",
    "\n",
    "# 保存圖像，指定文件名稱和格式\n",
    "# plt.savefig(folder_path+'\\\\UNet_loss_curve.png', dpi=300, bbox_inches='tight')\n",
    "plt.savefig(folder_path+'\\\\VGG16_loss_curve.png', dpi=300, bbox_inches='tight')\n",
    "# 顯示圖像\n",
    "plt.show()\n"
   ]
  },
  {
   "cell_type": "markdown",
   "metadata": {},
   "source": [
    "### 儲存模型"
   ]
  },
  {
   "cell_type": "code",
   "execution_count": 12,
   "metadata": {},
   "outputs": [],
   "source": [
    "import torch\n",
    "\n",
    "# 保存模型的狀態字典\n",
    "# torch.save(model.state_dict(), folder_path+'\\\\unet_model.pth')\n",
    "torch.save(model.state_dict(), folder_path+'\\\\vgg16_model.pth')\n",
    "# 保存完整模型\n",
    "# torch.save(model, folder_path+'\\\\unet_full_model.pth')\n",
    "torch.save(model, folder_path+'\\\\vgg16_full_model.pth')\n",
    "\n"
   ]
  },
  {
   "cell_type": "markdown",
   "metadata": {},
   "source": [
    "### 加載模型"
   ]
  },
  {
   "cell_type": "code",
   "execution_count": 13,
   "metadata": {},
   "outputs": [
    {
     "name": "stderr",
     "output_type": "stream",
     "text": [
      "C:\\Users\\User\\AppData\\Local\\Temp\\ipykernel_44172\\2159603562.py:10: FutureWarning: You are using `torch.load` with `weights_only=False` (the current default value), which uses the default pickle module implicitly. It is possible to construct malicious pickle data which will execute arbitrary code during unpickling (See https://github.com/pytorch/pytorch/blob/main/SECURITY.md#untrusted-models for more details). In a future release, the default value for `weights_only` will be flipped to `True`. This limits the functions that could be executed during unpickling. Arbitrary objects will no longer be allowed to be loaded via this mode unless they are explicitly allowlisted by the user via `torch.serialization.add_safe_globals`. We recommend you start setting `weights_only=True` for any use case where you don't have full control of the loaded file. Please open an issue on GitHub for any issues related to this experimental feature.\n",
      "  model.load_state_dict(torch.load(folder_path+'\\\\vgg16_model.pth'))\n",
      "C:\\Users\\User\\AppData\\Local\\Temp\\ipykernel_44172\\2159603562.py:13: FutureWarning: You are using `torch.load` with `weights_only=False` (the current default value), which uses the default pickle module implicitly. It is possible to construct malicious pickle data which will execute arbitrary code during unpickling (See https://github.com/pytorch/pytorch/blob/main/SECURITY.md#untrusted-models for more details). In a future release, the default value for `weights_only` will be flipped to `True`. This limits the functions that could be executed during unpickling. Arbitrary objects will no longer be allowed to be loaded via this mode unless they are explicitly allowlisted by the user via `torch.serialization.add_safe_globals`. We recommend you start setting `weights_only=True` for any use case where you don't have full control of the loaded file. Please open an issue on GitHub for any issues related to this experimental feature.\n",
      "  model = torch.load(folder_path+'\\\\vgg16_full_model.pth')\n"
     ]
    }
   ],
   "source": [
    "import torch\n",
    "import torch.nn as nn\n",
    "\n",
    "# 初始化模型\n",
    "# model = UNet()\n",
    "model = VGG16()\n",
    "\n",
    "# 加載模型的狀態字典\n",
    "# model.load_state_dict(torch.load(folder_path+'\\\\unet_model.pth'))\n",
    "model.load_state_dict(torch.load(folder_path+'\\\\vgg16_model.pth'))\n",
    "# 加載完整模型\n",
    "# model = torch.load(folder_path+'\\\\unet_full_model.pth')\n",
    "model = torch.load(folder_path+'\\\\vgg16_full_model.pth')"
   ]
  },
  {
   "cell_type": "markdown",
   "metadata": {},
   "source": [
    "### 模型推論\n",
    "1. 打印loss\n",
    "2. 語意分割結果"
   ]
  },
  {
   "cell_type": "code",
   "execution_count": 16,
   "metadata": {},
   "outputs": [
    {
     "data": {
      "image/png": "[encoded data removed]",
      "text/plain": [
       "<Figure size 1000x600 with 3 Axes>"
      ]
     },
     "metadata": {},
     "output_type": "display_data"
    }
   ],
   "source": [
    "import matplotlib.pyplot as plt\n",
    "# 將模型設置為評估模式（這在進行推理時是必要的）\n",
    "model.eval()\n",
    "with torch.no_grad():\n",
    "    for orig_image, label_image in dataloader:\n",
    "        orig_image = orig_image.to(device)\n",
    "        label_image = label_image.to(device)\n",
    "\n",
    "        outputs = model(orig_image) \n",
    "        # 將輸出轉換0或1\n",
    "        outputs = (outputs > 0.5).float()\n",
    "\n",
    "        plt.figure(figsize=(10, 6))\n",
    "        plt.subplot(1, 3, 1)\n",
    "        plt.imshow(orig_image[0].permute(1, 2, 0).cpu().numpy())\n",
    "        plt.title(\"Original Image\")\n",
    "        plt.axis(\"off\")\n",
    "\n",
    "        plt.subplot(1, 3, 2)\n",
    "        plt.imshow(label_image[0][0].cpu().numpy(), cmap=\"gray\")\n",
    "        plt.title(\"Ground Truth\")\n",
    "        plt.axis(\"off\")\n",
    "\n",
    "        plt.subplot(1, 3, 3)\n",
    "        plt.imshow(outputs[0][0].cpu().numpy(), cmap=\"gray\")\n",
    "        plt.title(\"Model Prediction\")\n",
    "        plt.axis(\"off\")\n",
    "\n",
    "        # 保存圖像，指定文件名稱和格式\n",
    "        # plt.savefig(folder_path+'\\\\UNet_image_test.png', dpi=300, bbox_inches='tight')\n",
    "        plt.savefig(folder_path+'\\\\VGG16_image_test.png', dpi=300, bbox_inches='tight')\n",
    "        plt.show()\n",
    "        break"
   ]
  },
  {
   "cell_type": "code",
   "execution_count": null,
   "metadata": {},
   "outputs": [],
   "source": [
    "# model.eval()\n",
    "# with torch.no_grad():\n",
    "#     for images, labels in dataloader:\n",
    "#         outputs = model(images)\n",
    "#         # 在這裡可以處理或保存輸出結果\n",
    "#         # 例如: 保存結果圖片，計算評估指標等\n"
   ]
  }
 ],
 "metadata": {
  "kernelspec": {
   "display_name": "MP_sideproject_PM",
   "language": "python",
   "name": "python3"
  },
  "language_info": {
   "codemirror_mode": {
    "name": "ipython",
    "version": 3
   },
   "file_extension": ".py",
   "mimetype": "text/x-python",
   "name": "python",
   "nbconvert_exporter": "python",
   "pygments_lexer": "ipython3",
   "version": "3.10.14"
  }
 },
 "nbformat": 4,
 "nbformat_minor": 2
}
