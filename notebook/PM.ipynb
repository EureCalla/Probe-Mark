{
 "cells": [
  {
   "cell_type": "code",
   "execution_count": 1,
   "metadata": {},
   "outputs": [],
   "source": [
    "import sys\n",
    "import os\n",
    " \n",
    "root_dir = os.path.abspath(os.path.join(os.path.abspath(''), '..'))\n",
    "sys.path.insert(0, root_dir)\n",
    "\n",
    "from probe_mark.dataset_Della.get_img import create_folders,get_img,make_folder,get_img_label,get_image\n",
    "# import sys\n",
    "# import os\n",
    " \n",
    "# sys.path.insert(0, os.path.abspath(os.path.join(os.path.abspath(''), '..')))"
   ]
  },
  {
   "cell_type": "code",
   "execution_count": 7,
   "metadata": {},
   "outputs": [
    {
     "name": "stdout",
     "output_type": "stream",
     "text": [
      "已建立資料夾 d:\\github\\Probe-Mark\\data\\processed\\rowdata_20240807\n"
     ]
    }
   ],
   "source": [
    "import pandas as pd\n",
    "# from get_img import create_folders,get_img,make_folder,get_img_label,get_image\n",
    "\n",
    "import os\n",
    "\n",
    "from datetime import datetime\n",
    "nowdir = os.getcwd()# 現在目錄\n",
    "nowpath=root_dir+\"\\\\data\\\\processed\"\n",
    "current_date = datetime.now()# 抓取現在的日期\n",
    "formatted_date = current_date.strftime(\"%Y%m%d\")# 格式化日期為所需格式\n",
    "\n",
    "folder_path=make_folder(path=nowpath, folder_name='rowdata',date=formatted_date)\n"
   ]
  },
  {
   "cell_type": "code",
   "execution_count": 27,
   "metadata": {},
   "outputs": [
    {
     "name": "stdout",
     "output_type": "stream",
     "text": [
      "資料夾已存在 d:\\github\\Probe-Mark\\data\\processed\\rowdata_20240807\\Artificial_VR29_D4070_thimble_10g\n",
      "資料夾 Die1-7-1-10g-f 已建立於 d:\\github\\Probe-Mark\\data\\processed\\rowdata_20240807\\Artificial_VR29_D4070_thimble_10g\\Die1-7-1-10g-f\n",
      "資料夾 Die1-7-2-10g 已建立於 d:\\github\\Probe-Mark\\data\\processed\\rowdata_20240807\\Artificial_VR29_D4070_thimble_10g\\Die1-7-2-10g\n",
      "資料夾 Die1-7-3-10g 已建立於 d:\\github\\Probe-Mark\\data\\processed\\rowdata_20240807\\Artificial_VR29_D4070_thimble_10g\\Die1-7-3-10g\n",
      "資料夾 Die1-14-1-10g-f 已建立於 d:\\github\\Probe-Mark\\data\\processed\\rowdata_20240807\\Artificial_VR29_D4070_thimble_10g\\Die1-14-1-10g-f\n",
      "資料夾 Die1-14-2-10g-f 已建立於 d:\\github\\Probe-Mark\\data\\processed\\rowdata_20240807\\Artificial_VR29_D4070_thimble_10g\\Die1-14-2-10g-f\n",
      "資料夾 Die1-14-3-10g-f 已建立於 d:\\github\\Probe-Mark\\data\\processed\\rowdata_20240807\\Artificial_VR29_D4070_thimble_10g\\Die1-14-3-10g-f\n",
      "資料夾 Die2-7-1-10g 已建立於 d:\\github\\Probe-Mark\\data\\processed\\rowdata_20240807\\Artificial_VR29_D4070_thimble_10g\\Die2-7-1-10g\n",
      "資料夾 Die2-7-2-10g 已建立於 d:\\github\\Probe-Mark\\data\\processed\\rowdata_20240807\\Artificial_VR29_D4070_thimble_10g\\Die2-7-2-10g\n",
      "資料夾 Die2-7-3-10g 已建立於 d:\\github\\Probe-Mark\\data\\processed\\rowdata_20240807\\Artificial_VR29_D4070_thimble_10g\\Die2-7-3-10g\n",
      "資料夾 Die2-14-1-10g 已建立於 d:\\github\\Probe-Mark\\data\\processed\\rowdata_20240807\\Artificial_VR29_D4070_thimble_10g\\Die2-14-1-10g\n",
      "資料夾 Die2-14-2-10g 已建立於 d:\\github\\Probe-Mark\\data\\processed\\rowdata_20240807\\Artificial_VR29_D4070_thimble_10g\\Die2-14-2-10g\n",
      "資料夾 Die3-7-1-10g-f 已建立於 d:\\github\\Probe-Mark\\data\\processed\\rowdata_20240807\\Artificial_VR29_D4070_thimble_10g\\Die3-7-1-10g-f\n",
      "資料夾 Die3-7-2-10g 已建立於 d:\\github\\Probe-Mark\\data\\processed\\rowdata_20240807\\Artificial_VR29_D4070_thimble_10g\\Die3-7-2-10g\n",
      "資料夾 Die3-7-3-10g 已建立於 d:\\github\\Probe-Mark\\data\\processed\\rowdata_20240807\\Artificial_VR29_D4070_thimble_10g\\Die3-7-3-10g\n",
      "資料夾 Die3-14-2-10g 已建立於 d:\\github\\Probe-Mark\\data\\processed\\rowdata_20240807\\Artificial_VR29_D4070_thimble_10g\\Die3-14-2-10g\n",
      "資料夾 Die3-14-3-10g 已建立於 d:\\github\\Probe-Mark\\data\\processed\\rowdata_20240807\\Artificial_VR29_D4070_thimble_10g\\Die3-14-3-10g\n",
      "資料夾 die6_Lline-1_blank 已建立於 d:\\github\\Probe-Mark\\data\\processed\\rowdata_20240807\\Artificial_VR29_D4070_thimble_10g\\die6_Lline-1_blank\n",
      "圖片提取和儲存完成。\n"
     ]
    }
   ],
   "source": [
    "\n",
    "folder_name = 'Artificial_VR29_D4070_thimble_10g'\n",
    "base_output_dir=make_folder(path=folder_path, folder_name=folder_name)\n",
    "# 讀取 Excel 檔案中的特定 sheet\n",
    "file_path = root_dir+'\\\\data\\\\raw\\\\'+folder_name+'\\\\picture.xlsx'\n",
    "sheet_name = '主要'\n",
    "# 讀取指定 sheet，並跳過第一行，同時指定新的欄位名稱\n",
    "df = pd.read_excel(file_path, sheet_name=sheet_name, header=1, names=['name', 'img'])\n",
    "img_name_list=df['name']  # 資料夾名稱列表\n",
    "# 建立資料夾儲存圖片\n",
    "created_folders = create_folders(base_output_dir, img_name_list)\n",
    "get_img(file_path, sheet_name, created_folders,'original')"
   ]
  },
  {
   "cell_type": "code",
   "execution_count": 28,
   "metadata": {},
   "outputs": [
    {
     "name": "stdout",
     "output_type": "stream",
     "text": [
      "圖片提取和儲存完成。\n"
     ]
    }
   ],
   "source": [
    "\n",
    "# 讀取 Excel 檔案中的特定 sheet\n",
    "sheet_name = '體積面積量測'\n",
    "# # 建立資料夾儲存圖片\n",
    "get_img(file_path, sheet_name, created_folders,'red_mark')\n"
   ]
  },
  {
   "cell_type": "code",
   "execution_count": 29,
   "metadata": {},
   "outputs": [],
   "source": [
    "for i in range(len(created_folders)):\n",
    "    image_path1 = created_folders[i] + '\\\\original.png'\n",
    "    image_path2 = created_folders[i] + '\\\\red_mark.png'\n",
    "    save_path = created_folders[i] + '\\\\label.png'\n",
    "    get_img_label(image_path1, image_path2, save_path)"
   ]
  },
  {
   "cell_type": "code",
   "execution_count": null,
   "metadata": {},
   "outputs": [],
   "source": []
  },
  {
   "cell_type": "code",
   "execution_count": null,
   "metadata": {},
   "outputs": [],
   "source": []
  },
  {
   "cell_type": "code",
   "execution_count": null,
   "metadata": {},
   "outputs": [],
   "source": []
  },
  {
   "cell_type": "code",
   "execution_count": null,
   "metadata": {},
   "outputs": [],
   "source": []
  },
  {
   "cell_type": "code",
   "execution_count": null,
   "metadata": {},
   "outputs": [],
   "source": []
  }
 ],
 "metadata": {
  "kernelspec": {
   "display_name": "MP_sideproject_PM",
   "language": "python",
   "name": "python3"
  },
  "language_info": {
   "codemirror_mode": {
    "name": "ipython",
    "version": 3
   },
   "file_extension": ".py",
   "mimetype": "text/x-python",
   "name": "python",
   "nbconvert_exporter": "python",
   "pygments_lexer": "ipython3",
   "version": "3.10.14"
  }
 },
 "nbformat": 4,
 "nbformat_minor": 2
}
