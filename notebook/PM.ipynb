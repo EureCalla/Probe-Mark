{
 "cells": [
  {
   "cell_type": "markdown",
   "metadata": {},
   "source": [
    "# 資料預處理"
   ]
  },
  {
   "cell_type": "code",
   "execution_count": 76,
   "metadata": {},
   "outputs": [],
   "source": [
    "import sys\n",
    "import os\n",
    " \n",
    "root_dir = os.path.abspath(os.path.join(os.path.abspath(''), '..'))\n",
    "sys.path.insert(0, root_dir)\n",
    "\n",
    "from probe_mark.dataset_Della.get_img import create_folders,get_img,make_folder,get_img_label,get_img_mask\n",
    "# import sys\n",
    "# import os\n",
    " \n",
    "# sys.path.insert(0, os.path.abspath(os.path.join(os.path.abspath(''), '..')))"
   ]
  },
  {
   "cell_type": "code",
   "execution_count": 78,
   "metadata": {},
   "outputs": [
    {
     "name": "stdout",
     "output_type": "stream",
     "text": [
      "資料夾已存在 d:\\github\\Probe-Mark\\data\\processed\\rowdata_20240813\n"
     ]
    }
   ],
   "source": [
    "import pandas as pd\n",
    "# from get_img import create_folders,get_img,make_folder,get_img_label,get_image\n",
    "\n",
    "import os\n",
    "\n",
    "from datetime import datetime\n",
    "nowdir = os.getcwd()# 現在目錄\n",
    "nowpath=root_dir+\"\\\\data\\\\processed\"\n",
    "current_date = datetime.now()# 抓取現在的日期\n",
    "formatted_date = current_date.strftime(\"%Y%m%d\")# 格式化日期為所需格式\n",
    "\n",
    "folder_path=make_folder(path=nowpath, folder_name='rowdata',date=formatted_date)\n"
   ]
  },
  {
   "cell_type": "code",
   "execution_count": 79,
   "metadata": {},
   "outputs": [
    {
     "name": "stdout",
     "output_type": "stream",
     "text": [
      "已建立資料夾 d:\\github\\Probe-Mark\\data\\processed\\rowdata_20240813\\Artificial_VR22_D4070_MW120F-HS\n",
      "資料夾 25-OD25-1 已建立於 d:\\github\\Probe-Mark\\data\\processed\\rowdata_20240813\\Artificial_VR22_D4070_MW120F-HS\\25-OD25-1\n",
      "資料夾 25-OD25-2 已建立於 d:\\github\\Probe-Mark\\data\\processed\\rowdata_20240813\\Artificial_VR22_D4070_MW120F-HS\\25-OD25-2\n",
      "資料夾 25-OD25-3 已建立於 d:\\github\\Probe-Mark\\data\\processed\\rowdata_20240813\\Artificial_VR22_D4070_MW120F-HS\\25-OD25-3\n",
      "資料夾 25-OD50-1 已建立於 d:\\github\\Probe-Mark\\data\\processed\\rowdata_20240813\\Artificial_VR22_D4070_MW120F-HS\\25-OD50-1\n",
      "資料夾 25-OD50-2 已建立於 d:\\github\\Probe-Mark\\data\\processed\\rowdata_20240813\\Artificial_VR22_D4070_MW120F-HS\\25-OD50-2\n",
      "資料夾 25-OD50-3 已建立於 d:\\github\\Probe-Mark\\data\\processed\\rowdata_20240813\\Artificial_VR22_D4070_MW120F-HS\\25-OD50-3\n",
      "資料夾 25-OD75-1 已建立於 d:\\github\\Probe-Mark\\data\\processed\\rowdata_20240813\\Artificial_VR22_D4070_MW120F-HS\\25-OD75-1\n",
      "資料夾 25-OD75-2 已建立於 d:\\github\\Probe-Mark\\data\\processed\\rowdata_20240813\\Artificial_VR22_D4070_MW120F-HS\\25-OD75-2\n",
      "資料夾 25-OD75-3 已建立於 d:\\github\\Probe-Mark\\data\\processed\\rowdata_20240813\\Artificial_VR22_D4070_MW120F-HS\\25-OD75-3\n",
      "資料夾 25-OD100-1 已建立於 d:\\github\\Probe-Mark\\data\\processed\\rowdata_20240813\\Artificial_VR22_D4070_MW120F-HS\\25-OD100-1\n",
      "資料夾 25-OD100-2 已建立於 d:\\github\\Probe-Mark\\data\\processed\\rowdata_20240813\\Artificial_VR22_D4070_MW120F-HS\\25-OD100-2\n",
      "資料夾 25-OD100-3 已建立於 d:\\github\\Probe-Mark\\data\\processed\\rowdata_20240813\\Artificial_VR22_D4070_MW120F-HS\\25-OD100-3\n",
      "資料夾 -40-OD25-1 已建立於 d:\\github\\Probe-Mark\\data\\processed\\rowdata_20240813\\Artificial_VR22_D4070_MW120F-HS\\-40-OD25-1\n",
      "資料夾 -40-OD25-2 已建立於 d:\\github\\Probe-Mark\\data\\processed\\rowdata_20240813\\Artificial_VR22_D4070_MW120F-HS\\-40-OD25-2\n",
      "資料夾 -40-OD25-3 已建立於 d:\\github\\Probe-Mark\\data\\processed\\rowdata_20240813\\Artificial_VR22_D4070_MW120F-HS\\-40-OD25-3\n",
      "資料夾 -40-OD50-1 已建立於 d:\\github\\Probe-Mark\\data\\processed\\rowdata_20240813\\Artificial_VR22_D4070_MW120F-HS\\-40-OD50-1\n",
      "資料夾 -40-OD50-2 已建立於 d:\\github\\Probe-Mark\\data\\processed\\rowdata_20240813\\Artificial_VR22_D4070_MW120F-HS\\-40-OD50-2\n",
      "資料夾 -40-OD50-3 已建立於 d:\\github\\Probe-Mark\\data\\processed\\rowdata_20240813\\Artificial_VR22_D4070_MW120F-HS\\-40-OD50-3\n",
      "資料夾 -40-OD75-1 已建立於 d:\\github\\Probe-Mark\\data\\processed\\rowdata_20240813\\Artificial_VR22_D4070_MW120F-HS\\-40-OD75-1\n",
      "資料夾 -40-OD75-2 已建立於 d:\\github\\Probe-Mark\\data\\processed\\rowdata_20240813\\Artificial_VR22_D4070_MW120F-HS\\-40-OD75-2\n",
      "資料夾 -40-OD75-3 已建立於 d:\\github\\Probe-Mark\\data\\processed\\rowdata_20240813\\Artificial_VR22_D4070_MW120F-HS\\-40-OD75-3\n",
      "資料夾 -40-OD100-1 已建立於 d:\\github\\Probe-Mark\\data\\processed\\rowdata_20240813\\Artificial_VR22_D4070_MW120F-HS\\-40-OD100-1\n",
      "資料夾 -40-OD100-2 已建立於 d:\\github\\Probe-Mark\\data\\processed\\rowdata_20240813\\Artificial_VR22_D4070_MW120F-HS\\-40-OD100-2\n",
      "資料夾 -40-OD100-3 已建立於 d:\\github\\Probe-Mark\\data\\processed\\rowdata_20240813\\Artificial_VR22_D4070_MW120F-HS\\-40-OD100-3\n",
      "資料夾 85-OD25-1 已建立於 d:\\github\\Probe-Mark\\data\\processed\\rowdata_20240813\\Artificial_VR22_D4070_MW120F-HS\\85-OD25-1\n",
      "資料夾 85-OD25-2 已建立於 d:\\github\\Probe-Mark\\data\\processed\\rowdata_20240813\\Artificial_VR22_D4070_MW120F-HS\\85-OD25-2\n",
      "資料夾 85-OD25-3 已建立於 d:\\github\\Probe-Mark\\data\\processed\\rowdata_20240813\\Artificial_VR22_D4070_MW120F-HS\\85-OD25-3\n",
      "資料夾 85-OD50-1 已建立於 d:\\github\\Probe-Mark\\data\\processed\\rowdata_20240813\\Artificial_VR22_D4070_MW120F-HS\\85-OD50-1\n",
      "資料夾 85-OD50-2 已建立於 d:\\github\\Probe-Mark\\data\\processed\\rowdata_20240813\\Artificial_VR22_D4070_MW120F-HS\\85-OD50-2\n",
      "資料夾 85-OD50-3 已建立於 d:\\github\\Probe-Mark\\data\\processed\\rowdata_20240813\\Artificial_VR22_D4070_MW120F-HS\\85-OD50-3\n",
      "資料夾 85-OD75-1 已建立於 d:\\github\\Probe-Mark\\data\\processed\\rowdata_20240813\\Artificial_VR22_D4070_MW120F-HS\\85-OD75-1\n",
      "資料夾 85-OD75-2 已建立於 d:\\github\\Probe-Mark\\data\\processed\\rowdata_20240813\\Artificial_VR22_D4070_MW120F-HS\\85-OD75-2\n",
      "資料夾 85-OD75-3 已建立於 d:\\github\\Probe-Mark\\data\\processed\\rowdata_20240813\\Artificial_VR22_D4070_MW120F-HS\\85-OD75-3\n",
      "資料夾 85-OD100-1 已建立於 d:\\github\\Probe-Mark\\data\\processed\\rowdata_20240813\\Artificial_VR22_D4070_MW120F-HS\\85-OD100-1\n",
      "資料夾 85-OD100-2 已建立於 d:\\github\\Probe-Mark\\data\\processed\\rowdata_20240813\\Artificial_VR22_D4070_MW120F-HS\\85-OD100-2\n",
      "資料夾 85-OD100-3 已建立於 d:\\github\\Probe-Mark\\data\\processed\\rowdata_20240813\\Artificial_VR22_D4070_MW120F-HS\\85-OD100-3\n",
      "資料夾 125-OD25-1 已建立於 d:\\github\\Probe-Mark\\data\\processed\\rowdata_20240813\\Artificial_VR22_D4070_MW120F-HS\\125-OD25-1\n",
      "資料夾 125-OD25-2 已建立於 d:\\github\\Probe-Mark\\data\\processed\\rowdata_20240813\\Artificial_VR22_D4070_MW120F-HS\\125-OD25-2\n",
      "資料夾 125-OD25-3 已建立於 d:\\github\\Probe-Mark\\data\\processed\\rowdata_20240813\\Artificial_VR22_D4070_MW120F-HS\\125-OD25-3\n",
      "資料夾 125-OD50-1 已建立於 d:\\github\\Probe-Mark\\data\\processed\\rowdata_20240813\\Artificial_VR22_D4070_MW120F-HS\\125-OD50-1\n",
      "資料夾 125-OD50-2 已建立於 d:\\github\\Probe-Mark\\data\\processed\\rowdata_20240813\\Artificial_VR22_D4070_MW120F-HS\\125-OD50-2\n",
      "資料夾 125-OD50-3 已建立於 d:\\github\\Probe-Mark\\data\\processed\\rowdata_20240813\\Artificial_VR22_D4070_MW120F-HS\\125-OD50-3\n",
      "資料夾 125-OD75-1 已建立於 d:\\github\\Probe-Mark\\data\\processed\\rowdata_20240813\\Artificial_VR22_D4070_MW120F-HS\\125-OD75-1\n",
      "資料夾 125-OD75-2 已建立於 d:\\github\\Probe-Mark\\data\\processed\\rowdata_20240813\\Artificial_VR22_D4070_MW120F-HS\\125-OD75-2\n",
      "資料夾 125-OD75-3 已建立於 d:\\github\\Probe-Mark\\data\\processed\\rowdata_20240813\\Artificial_VR22_D4070_MW120F-HS\\125-OD75-3\n",
      "資料夾 125-OD100-1 已建立於 d:\\github\\Probe-Mark\\data\\processed\\rowdata_20240813\\Artificial_VR22_D4070_MW120F-HS\\125-OD100-1\n",
      "資料夾 125-OD100-2 已建立於 d:\\github\\Probe-Mark\\data\\processed\\rowdata_20240813\\Artificial_VR22_D4070_MW120F-HS\\125-OD100-2\n",
      "資料夾 125-OD100-3 已建立於 d:\\github\\Probe-Mark\\data\\processed\\rowdata_20240813\\Artificial_VR22_D4070_MW120F-HS\\125-OD100-3\n",
      "圖片提取和儲存完成。\n"
     ]
    }
   ],
   "source": [
    "\n",
    "folder_name = 'Artificial_VR22_D4070_MW120F-HS'\n",
    "base_output_dir=make_folder(path=folder_path, folder_name=folder_name)\n",
    "# 讀取 Excel 檔案中的特定 sheet\n",
    "file_path = root_dir+'\\\\data\\\\raw\\\\'+folder_name+'\\\\picture.xlsx'\n",
    "sheet_name = '主要'\n",
    "# 讀取指定 sheet，並跳過第一行，同時指定新的欄位名稱\n",
    "df = pd.read_excel(file_path, sheet_name=sheet_name, header=1, names=['name', 'img'])\n",
    "img_name_list=df['name']  # 資料夾名稱列表\n",
    "# filtered_list = [name for name in img_name_list if 'blank' not in name]\n",
    "# 建立資料夾儲存圖片\n",
    "created_folders = create_folders(base_output_dir, img_name_list)\n",
    "get_img(file_path, sheet_name, created_folders,'original')"
   ]
  },
  {
   "cell_type": "code",
   "execution_count": 80,
   "metadata": {},
   "outputs": [
    {
     "name": "stdout",
     "output_type": "stream",
     "text": [
      "圖片提取和儲存完成。\n"
     ]
    }
   ],
   "source": [
    "\n",
    "# 讀取 Excel 檔案中的特定 sheet\n",
    "sheet_name = '體積面積量測'\n",
    "# # 建立資料夾儲存圖片\n",
    "get_img(file_path, sheet_name, created_folders,'red_mark')\n"
   ]
  },
  {
   "cell_type": "code",
   "execution_count": 81,
   "metadata": {},
   "outputs": [
    {
     "name": "stdout",
     "output_type": "stream",
     "text": [
      "Image saved to d:\\github\\Probe-Mark\\data\\processed\\rowdata_20240813\\Artificial_VR22_D4070_MW120F-HS\\25-OD25-1\\mask.png\n",
      "Image saved to d:\\github\\Probe-Mark\\data\\processed\\rowdata_20240813\\Artificial_VR22_D4070_MW120F-HS\\25-OD25-1\\label.png\n",
      "Image saved to d:\\github\\Probe-Mark\\data\\processed\\rowdata_20240813\\Artificial_VR22_D4070_MW120F-HS\\25-OD25-2\\mask.png\n",
      "Image saved to d:\\github\\Probe-Mark\\data\\processed\\rowdata_20240813\\Artificial_VR22_D4070_MW120F-HS\\25-OD25-2\\label.png\n",
      "Image saved to d:\\github\\Probe-Mark\\data\\processed\\rowdata_20240813\\Artificial_VR22_D4070_MW120F-HS\\25-OD25-3\\mask.png\n",
      "Image saved to d:\\github\\Probe-Mark\\data\\processed\\rowdata_20240813\\Artificial_VR22_D4070_MW120F-HS\\25-OD25-3\\label.png\n",
      "Image saved to d:\\github\\Probe-Mark\\data\\processed\\rowdata_20240813\\Artificial_VR22_D4070_MW120F-HS\\25-OD50-1\\mask.png\n",
      "Image saved to d:\\github\\Probe-Mark\\data\\processed\\rowdata_20240813\\Artificial_VR22_D4070_MW120F-HS\\25-OD50-1\\label.png\n",
      "Image saved to d:\\github\\Probe-Mark\\data\\processed\\rowdata_20240813\\Artificial_VR22_D4070_MW120F-HS\\25-OD50-2\\mask.png\n",
      "Image saved to d:\\github\\Probe-Mark\\data\\processed\\rowdata_20240813\\Artificial_VR22_D4070_MW120F-HS\\25-OD50-2\\label.png\n",
      "Image saved to d:\\github\\Probe-Mark\\data\\processed\\rowdata_20240813\\Artificial_VR22_D4070_MW120F-HS\\25-OD50-3\\mask.png\n",
      "Image saved to d:\\github\\Probe-Mark\\data\\processed\\rowdata_20240813\\Artificial_VR22_D4070_MW120F-HS\\25-OD50-3\\label.png\n",
      "Image saved to d:\\github\\Probe-Mark\\data\\processed\\rowdata_20240813\\Artificial_VR22_D4070_MW120F-HS\\25-OD75-1\\mask.png\n",
      "Image saved to d:\\github\\Probe-Mark\\data\\processed\\rowdata_20240813\\Artificial_VR22_D4070_MW120F-HS\\25-OD75-1\\label.png\n",
      "Image saved to d:\\github\\Probe-Mark\\data\\processed\\rowdata_20240813\\Artificial_VR22_D4070_MW120F-HS\\25-OD75-2\\mask.png\n",
      "Image saved to d:\\github\\Probe-Mark\\data\\processed\\rowdata_20240813\\Artificial_VR22_D4070_MW120F-HS\\25-OD75-2\\label.png\n",
      "Image saved to d:\\github\\Probe-Mark\\data\\processed\\rowdata_20240813\\Artificial_VR22_D4070_MW120F-HS\\25-OD75-3\\mask.png\n",
      "Image saved to d:\\github\\Probe-Mark\\data\\processed\\rowdata_20240813\\Artificial_VR22_D4070_MW120F-HS\\25-OD75-3\\label.png\n",
      "Image saved to d:\\github\\Probe-Mark\\data\\processed\\rowdata_20240813\\Artificial_VR22_D4070_MW120F-HS\\25-OD100-1\\mask.png\n",
      "Image saved to d:\\github\\Probe-Mark\\data\\processed\\rowdata_20240813\\Artificial_VR22_D4070_MW120F-HS\\25-OD100-1\\label.png\n",
      "Image saved to d:\\github\\Probe-Mark\\data\\processed\\rowdata_20240813\\Artificial_VR22_D4070_MW120F-HS\\25-OD100-2\\mask.png\n",
      "Image saved to d:\\github\\Probe-Mark\\data\\processed\\rowdata_20240813\\Artificial_VR22_D4070_MW120F-HS\\25-OD100-2\\label.png\n",
      "Image saved to d:\\github\\Probe-Mark\\data\\processed\\rowdata_20240813\\Artificial_VR22_D4070_MW120F-HS\\25-OD100-3\\mask.png\n",
      "Image saved to d:\\github\\Probe-Mark\\data\\processed\\rowdata_20240813\\Artificial_VR22_D4070_MW120F-HS\\25-OD100-3\\label.png\n",
      "Image saved to d:\\github\\Probe-Mark\\data\\processed\\rowdata_20240813\\Artificial_VR22_D4070_MW120F-HS\\-40-OD25-1\\mask.png\n",
      "Image saved to d:\\github\\Probe-Mark\\data\\processed\\rowdata_20240813\\Artificial_VR22_D4070_MW120F-HS\\-40-OD25-1\\label.png\n",
      "Image saved to d:\\github\\Probe-Mark\\data\\processed\\rowdata_20240813\\Artificial_VR22_D4070_MW120F-HS\\-40-OD25-2\\mask.png\n",
      "Image saved to d:\\github\\Probe-Mark\\data\\processed\\rowdata_20240813\\Artificial_VR22_D4070_MW120F-HS\\-40-OD25-2\\label.png\n",
      "Image saved to d:\\github\\Probe-Mark\\data\\processed\\rowdata_20240813\\Artificial_VR22_D4070_MW120F-HS\\-40-OD25-3\\mask.png\n",
      "Image saved to d:\\github\\Probe-Mark\\data\\processed\\rowdata_20240813\\Artificial_VR22_D4070_MW120F-HS\\-40-OD25-3\\label.png\n",
      "Image saved to d:\\github\\Probe-Mark\\data\\processed\\rowdata_20240813\\Artificial_VR22_D4070_MW120F-HS\\-40-OD50-1\\mask.png\n",
      "Image saved to d:\\github\\Probe-Mark\\data\\processed\\rowdata_20240813\\Artificial_VR22_D4070_MW120F-HS\\-40-OD50-1\\label.png\n",
      "Image saved to d:\\github\\Probe-Mark\\data\\processed\\rowdata_20240813\\Artificial_VR22_D4070_MW120F-HS\\-40-OD50-2\\mask.png\n",
      "Image saved to d:\\github\\Probe-Mark\\data\\processed\\rowdata_20240813\\Artificial_VR22_D4070_MW120F-HS\\-40-OD50-2\\label.png\n",
      "Image saved to d:\\github\\Probe-Mark\\data\\processed\\rowdata_20240813\\Artificial_VR22_D4070_MW120F-HS\\-40-OD50-3\\mask.png\n",
      "Image saved to d:\\github\\Probe-Mark\\data\\processed\\rowdata_20240813\\Artificial_VR22_D4070_MW120F-HS\\-40-OD50-3\\label.png\n",
      "Image saved to d:\\github\\Probe-Mark\\data\\processed\\rowdata_20240813\\Artificial_VR22_D4070_MW120F-HS\\-40-OD75-1\\mask.png\n",
      "Image saved to d:\\github\\Probe-Mark\\data\\processed\\rowdata_20240813\\Artificial_VR22_D4070_MW120F-HS\\-40-OD75-1\\label.png\n",
      "Image saved to d:\\github\\Probe-Mark\\data\\processed\\rowdata_20240813\\Artificial_VR22_D4070_MW120F-HS\\-40-OD75-2\\mask.png\n",
      "Image saved to d:\\github\\Probe-Mark\\data\\processed\\rowdata_20240813\\Artificial_VR22_D4070_MW120F-HS\\-40-OD75-2\\label.png\n",
      "Image saved to d:\\github\\Probe-Mark\\data\\processed\\rowdata_20240813\\Artificial_VR22_D4070_MW120F-HS\\-40-OD75-3\\mask.png\n",
      "Image saved to d:\\github\\Probe-Mark\\data\\processed\\rowdata_20240813\\Artificial_VR22_D4070_MW120F-HS\\-40-OD75-3\\label.png\n",
      "Image saved to d:\\github\\Probe-Mark\\data\\processed\\rowdata_20240813\\Artificial_VR22_D4070_MW120F-HS\\-40-OD100-1\\mask.png\n",
      "Image saved to d:\\github\\Probe-Mark\\data\\processed\\rowdata_20240813\\Artificial_VR22_D4070_MW120F-HS\\-40-OD100-1\\label.png\n",
      "Image saved to d:\\github\\Probe-Mark\\data\\processed\\rowdata_20240813\\Artificial_VR22_D4070_MW120F-HS\\-40-OD100-2\\mask.png\n",
      "Image saved to d:\\github\\Probe-Mark\\data\\processed\\rowdata_20240813\\Artificial_VR22_D4070_MW120F-HS\\-40-OD100-2\\label.png\n",
      "Image saved to d:\\github\\Probe-Mark\\data\\processed\\rowdata_20240813\\Artificial_VR22_D4070_MW120F-HS\\-40-OD100-3\\mask.png\n",
      "Image saved to d:\\github\\Probe-Mark\\data\\processed\\rowdata_20240813\\Artificial_VR22_D4070_MW120F-HS\\-40-OD100-3\\label.png\n",
      "Image saved to d:\\github\\Probe-Mark\\data\\processed\\rowdata_20240813\\Artificial_VR22_D4070_MW120F-HS\\85-OD25-1\\mask.png\n",
      "Image saved to d:\\github\\Probe-Mark\\data\\processed\\rowdata_20240813\\Artificial_VR22_D4070_MW120F-HS\\85-OD25-1\\label.png\n",
      "Image saved to d:\\github\\Probe-Mark\\data\\processed\\rowdata_20240813\\Artificial_VR22_D4070_MW120F-HS\\85-OD25-2\\mask.png\n",
      "Image saved to d:\\github\\Probe-Mark\\data\\processed\\rowdata_20240813\\Artificial_VR22_D4070_MW120F-HS\\85-OD25-2\\label.png\n",
      "Image saved to d:\\github\\Probe-Mark\\data\\processed\\rowdata_20240813\\Artificial_VR22_D4070_MW120F-HS\\85-OD25-3\\mask.png\n",
      "Image saved to d:\\github\\Probe-Mark\\data\\processed\\rowdata_20240813\\Artificial_VR22_D4070_MW120F-HS\\85-OD25-3\\label.png\n",
      "Image saved to d:\\github\\Probe-Mark\\data\\processed\\rowdata_20240813\\Artificial_VR22_D4070_MW120F-HS\\85-OD50-1\\mask.png\n",
      "Image saved to d:\\github\\Probe-Mark\\data\\processed\\rowdata_20240813\\Artificial_VR22_D4070_MW120F-HS\\85-OD50-1\\label.png\n",
      "Image saved to d:\\github\\Probe-Mark\\data\\processed\\rowdata_20240813\\Artificial_VR22_D4070_MW120F-HS\\85-OD50-2\\mask.png\n",
      "Image saved to d:\\github\\Probe-Mark\\data\\processed\\rowdata_20240813\\Artificial_VR22_D4070_MW120F-HS\\85-OD50-2\\label.png\n",
      "Image saved to d:\\github\\Probe-Mark\\data\\processed\\rowdata_20240813\\Artificial_VR22_D4070_MW120F-HS\\85-OD50-3\\mask.png\n",
      "Image saved to d:\\github\\Probe-Mark\\data\\processed\\rowdata_20240813\\Artificial_VR22_D4070_MW120F-HS\\85-OD50-3\\label.png\n",
      "Image saved to d:\\github\\Probe-Mark\\data\\processed\\rowdata_20240813\\Artificial_VR22_D4070_MW120F-HS\\85-OD75-1\\mask.png\n",
      "Image saved to d:\\github\\Probe-Mark\\data\\processed\\rowdata_20240813\\Artificial_VR22_D4070_MW120F-HS\\85-OD75-1\\label.png\n",
      "Image saved to d:\\github\\Probe-Mark\\data\\processed\\rowdata_20240813\\Artificial_VR22_D4070_MW120F-HS\\85-OD75-2\\mask.png\n",
      "Image saved to d:\\github\\Probe-Mark\\data\\processed\\rowdata_20240813\\Artificial_VR22_D4070_MW120F-HS\\85-OD75-2\\label.png\n",
      "Image saved to d:\\github\\Probe-Mark\\data\\processed\\rowdata_20240813\\Artificial_VR22_D4070_MW120F-HS\\85-OD75-3\\mask.png\n",
      "Image saved to d:\\github\\Probe-Mark\\data\\processed\\rowdata_20240813\\Artificial_VR22_D4070_MW120F-HS\\85-OD75-3\\label.png\n",
      "Image saved to d:\\github\\Probe-Mark\\data\\processed\\rowdata_20240813\\Artificial_VR22_D4070_MW120F-HS\\85-OD100-1\\mask.png\n",
      "Image saved to d:\\github\\Probe-Mark\\data\\processed\\rowdata_20240813\\Artificial_VR22_D4070_MW120F-HS\\85-OD100-1\\label.png\n",
      "Image saved to d:\\github\\Probe-Mark\\data\\processed\\rowdata_20240813\\Artificial_VR22_D4070_MW120F-HS\\85-OD100-2\\mask.png\n",
      "Image saved to d:\\github\\Probe-Mark\\data\\processed\\rowdata_20240813\\Artificial_VR22_D4070_MW120F-HS\\85-OD100-2\\label.png\n",
      "Image saved to d:\\github\\Probe-Mark\\data\\processed\\rowdata_20240813\\Artificial_VR22_D4070_MW120F-HS\\85-OD100-3\\mask.png\n",
      "Image saved to d:\\github\\Probe-Mark\\data\\processed\\rowdata_20240813\\Artificial_VR22_D4070_MW120F-HS\\85-OD100-3\\label.png\n",
      "Image saved to d:\\github\\Probe-Mark\\data\\processed\\rowdata_20240813\\Artificial_VR22_D4070_MW120F-HS\\125-OD25-1\\mask.png\n",
      "Image saved to d:\\github\\Probe-Mark\\data\\processed\\rowdata_20240813\\Artificial_VR22_D4070_MW120F-HS\\125-OD25-1\\label.png\n",
      "Image saved to d:\\github\\Probe-Mark\\data\\processed\\rowdata_20240813\\Artificial_VR22_D4070_MW120F-HS\\125-OD25-2\\mask.png\n",
      "Image saved to d:\\github\\Probe-Mark\\data\\processed\\rowdata_20240813\\Artificial_VR22_D4070_MW120F-HS\\125-OD25-2\\label.png\n",
      "Image saved to d:\\github\\Probe-Mark\\data\\processed\\rowdata_20240813\\Artificial_VR22_D4070_MW120F-HS\\125-OD25-3\\mask.png\n",
      "Image saved to d:\\github\\Probe-Mark\\data\\processed\\rowdata_20240813\\Artificial_VR22_D4070_MW120F-HS\\125-OD25-3\\label.png\n",
      "Image saved to d:\\github\\Probe-Mark\\data\\processed\\rowdata_20240813\\Artificial_VR22_D4070_MW120F-HS\\125-OD50-1\\mask.png\n",
      "Image saved to d:\\github\\Probe-Mark\\data\\processed\\rowdata_20240813\\Artificial_VR22_D4070_MW120F-HS\\125-OD50-1\\label.png\n",
      "Image saved to d:\\github\\Probe-Mark\\data\\processed\\rowdata_20240813\\Artificial_VR22_D4070_MW120F-HS\\125-OD50-2\\mask.png\n",
      "Image saved to d:\\github\\Probe-Mark\\data\\processed\\rowdata_20240813\\Artificial_VR22_D4070_MW120F-HS\\125-OD50-2\\label.png\n",
      "Image saved to d:\\github\\Probe-Mark\\data\\processed\\rowdata_20240813\\Artificial_VR22_D4070_MW120F-HS\\125-OD50-3\\mask.png\n",
      "Image saved to d:\\github\\Probe-Mark\\data\\processed\\rowdata_20240813\\Artificial_VR22_D4070_MW120F-HS\\125-OD50-3\\label.png\n",
      "Image saved to d:\\github\\Probe-Mark\\data\\processed\\rowdata_20240813\\Artificial_VR22_D4070_MW120F-HS\\125-OD75-1\\mask.png\n",
      "Image saved to d:\\github\\Probe-Mark\\data\\processed\\rowdata_20240813\\Artificial_VR22_D4070_MW120F-HS\\125-OD75-1\\label.png\n",
      "Image saved to d:\\github\\Probe-Mark\\data\\processed\\rowdata_20240813\\Artificial_VR22_D4070_MW120F-HS\\125-OD75-2\\mask.png\n",
      "Image saved to d:\\github\\Probe-Mark\\data\\processed\\rowdata_20240813\\Artificial_VR22_D4070_MW120F-HS\\125-OD75-2\\label.png\n",
      "Image saved to d:\\github\\Probe-Mark\\data\\processed\\rowdata_20240813\\Artificial_VR22_D4070_MW120F-HS\\125-OD75-3\\mask.png\n",
      "Image saved to d:\\github\\Probe-Mark\\data\\processed\\rowdata_20240813\\Artificial_VR22_D4070_MW120F-HS\\125-OD75-3\\label.png\n",
      "Image saved to d:\\github\\Probe-Mark\\data\\processed\\rowdata_20240813\\Artificial_VR22_D4070_MW120F-HS\\125-OD100-1\\mask.png\n",
      "Image saved to d:\\github\\Probe-Mark\\data\\processed\\rowdata_20240813\\Artificial_VR22_D4070_MW120F-HS\\125-OD100-1\\label.png\n",
      "Image saved to d:\\github\\Probe-Mark\\data\\processed\\rowdata_20240813\\Artificial_VR22_D4070_MW120F-HS\\125-OD100-2\\mask.png\n",
      "Image saved to d:\\github\\Probe-Mark\\data\\processed\\rowdata_20240813\\Artificial_VR22_D4070_MW120F-HS\\125-OD100-2\\label.png\n",
      "Image saved to d:\\github\\Probe-Mark\\data\\processed\\rowdata_20240813\\Artificial_VR22_D4070_MW120F-HS\\125-OD100-3\\mask.png\n",
      "Image saved to d:\\github\\Probe-Mark\\data\\processed\\rowdata_20240813\\Artificial_VR22_D4070_MW120F-HS\\125-OD100-3\\label.png\n"
     ]
    }
   ],
   "source": [
    "# 使用範例\n",
    "for i in range(len(created_folders)):\n",
    "    image_path1 = created_folders[i] + '\\\\original.png'\n",
    "    image_path2 = created_folders[i] + '\\\\red_mark.png'\n",
    "    image_path3 = created_folders[i] + '\\\\mask.png'\n",
    "    image_path4 = created_folders[i] + '\\\\label.png'\n",
    "    get_img_mask(image_path1, image_path2, image_path3)\n",
    "    get_img_label(image_path1, image_path2, image_path4)"
   ]
  },
  {
   "cell_type": "markdown",
   "metadata": {},
   "source": [
    "# 資料訓練"
   ]
  },
  {
   "cell_type": "code",
   "execution_count": 10,
   "metadata": {},
   "outputs": [],
   "source": [
    "# folder_path=r'D:\\github\\Probe-Mark\\data\\processed\\rowdata_20240813'"
   ]
  },
  {
   "cell_type": "code",
   "execution_count": 82,
   "metadata": {},
   "outputs": [
    {
     "data": {
      "text/plain": [
       "(234, 234)"
      ]
     },
     "execution_count": 82,
     "metadata": {},
     "output_type": "execute_result"
    }
   ],
   "source": [
    "import os\n",
    "\n",
    "def find_png(folder_path,img_name):\n",
    "    label_paths = []\n",
    "    for root, dirs, files in os.walk(folder_path):\n",
    "        for file in files:\n",
    "            if file == img_name:\n",
    "                label_paths.append(os.path.join(root, file))\n",
    "    return label_paths\n",
    "\n",
    "\n",
    "label_paths = find_png(folder_path,\"label.png\")\n",
    "orig_paths = find_png(folder_path,\"original.png\")\n",
    "\n",
    "len(label_paths),len(orig_paths)"
   ]
  },
  {
   "cell_type": "markdown",
   "metadata": {},
   "source": [
    "### 準備數據集"
   ]
  },
  {
   "cell_type": "code",
   "execution_count": 3,
   "metadata": {},
   "outputs": [],
   "source": [
    "import os\n",
    "from PIL import Image\n",
    "import torch\n",
    "from torch.utils.data import Dataset, DataLoader\n",
    "import torchvision.transforms as transforms"
   ]
  },
  {
   "cell_type": "code",
   "execution_count": 98,
   "metadata": {},
   "outputs": [],
   "source": [
    "\n",
    "class SegmentationDataset(Dataset):\n",
    "    def __init__(self, orig_paths, label_paths, transform=None):\n",
    "        self.orig_paths = orig_paths\n",
    "        self.label_paths = label_paths\n",
    "        self.transform = transform\n",
    "\n",
    "    def __len__(self):\n",
    "        return len(self.orig_paths)\n",
    "\n",
    "    def __getitem__(self, idx):\n",
    "        orig_image = Image.open(self.orig_paths[idx]).convert(\"RGB\")\n",
    "        label_image = Image.open(self.label_paths[idx]).convert(\"L\")\n",
    "\n",
    "        if self.transform:\n",
    "            orig_image = self.transform(orig_image)\n",
    "            label_image = self.transform(label_image)\n",
    "        # orig_image = (3,128,128)\n",
    "        # label_image = (1,128,128)\n",
    "        return orig_image, label_image\n",
    "\n",
    "transform = transforms.Compose([\n",
    "    transforms.Resize((128, 128)),\n",
    "    transforms.ToTensor()\n",
    "])\n",
    "\n",
    "dataset = SegmentationDataset(orig_paths, label_paths, transform=transform)\n",
    "dataloader = DataLoader(dataset, batch_size=32, shuffle=True)\n"
   ]
  },
  {
   "cell_type": "markdown",
   "metadata": {},
   "source": [
    "### 定義模型架構(以下都還沒寫好)"
   ]
  },
  {
   "cell_type": "code",
   "execution_count": null,
   "metadata": {},
   "outputs": [],
   "source": [
    "import torch.nn as nn\n",
    "import torch.nn.functional as F\n",
    "\n",
    "class UNet(nn.Module):\n",
    "    def __init__(self):\n",
    "        super(UNet, self).__init__()\n",
    "        # 定義UNet的各個層\n",
    "        self.enc1 = self.conv_block(3, 64)\n",
    "        self.enc2 = self.conv_block(64, 128)\n",
    "        self.enc3 = self.conv_block(128, 256)\n",
    "        self.enc4 = self.conv_block(256, 512)\n",
    "        self.center = self.conv_block(512, 1024)\n",
    "        self.dec4 = self.conv_block(1024, 512)\n",
    "        self.dec3 = self.conv_block(512, 256)\n",
    "        self.dec2 = self.conv_block(256, 128)\n",
    "        self.dec1 = self.conv_block(128, 64)\n",
    "        self.final = nn.Conv2d(64, 1, kernel_size=1)\n",
    "\n",
    "    def conv_block(self, in_channels, out_channels):\n",
    "        return nn.Sequential(\n",
    "            nn.Conv2d(in_channels, out_channels, kernel_size=3, padding=1),\n",
    "            nn.ReLU(inplace=True),\n",
    "            nn.Conv2d(out_channels, out_channels, kernel_size=3, padding=1),\n",
    "            nn.ReLU(inplace=True)\n",
    "        )\n",
    "\n",
    "    def forward(self, x):\n",
    "        # 前向傳播定義\n",
    "        enc1 = self.enc1(x)\n",
    "        enc2 = self.enc2(F.max_pool2d(enc1, 2))\n",
    "        enc3 = self.enc3(F.max_pool2d(enc2, 2))\n",
    "        enc4 = self.enc4(F.max_pool2d(enc3, 2))\n",
    "        center = self.center(F.max_pool2d(enc4, 2))\n",
    "        dec4 = self.dec4(F.interpolate(center, scale_factor=2, mode='bilinear', align_corners=True) + enc4)\n",
    "        dec3 = self.dec3(F.interpolate(dec4, scale_factor=2, mode='bilinear', align_corners=True) + enc3)\n",
    "        dec2 = self.dec2(F.interpolate(dec3, scale_factor=2, mode='bilinear', align_corners=True) + enc2)\n",
    "        dec1 = self.dec1(F.interpolate(dec2, scale_factor=2, mode='bilinear', align_corners=True) + enc1)\n",
    "        final = self.final(dec1)\n",
    "        return torch.sigmoid(final)\n",
    "\n",
    "model = UNet()\n"
   ]
  },
  {
   "cell_type": "markdown",
   "metadata": {},
   "source": [
    "### 訓練模型"
   ]
  },
  {
   "cell_type": "code",
   "execution_count": 101,
   "metadata": {},
   "outputs": [
    {
     "name": "stdout",
     "output_type": "stream",
     "text": [
      "cuda:0 cuda:0\n",
      "torch.Size([32, 3, 128, 128]) torch.Size([32, 1, 128, 128])\n",
      "cuda:0 cuda:0\n",
      "torch.Size([32, 3, 128, 128]) torch.Size([32, 1, 128, 128])\n",
      "cuda:0 cuda:0\n",
      "torch.Size([32, 3, 128, 128]) torch.Size([32, 1, 128, 128])\n",
      "cuda:0 cuda:0\n",
      "torch.Size([32, 3, 128, 128]) torch.Size([32, 1, 128, 128])\n",
      "cuda:0 cuda:0\n",
      "torch.Size([32, 3, 128, 128]) torch.Size([32, 1, 128, 128])\n",
      "cuda:0 cuda:0\n",
      "torch.Size([32, 3, 128, 128]) torch.Size([32, 1, 128, 128])\n",
      "cuda:0 cuda:0\n",
      "torch.Size([32, 3, 128, 128]) torch.Size([32, 1, 128, 128])\n",
      "cuda:0 cuda:0\n",
      "torch.Size([10, 3, 128, 128]) torch.Size([10, 1, 128, 128])\n"
     ]
    }
   ],
   "source": [
    "# epoch\n",
    "# model = model.cuda()\n",
    "for epoch in range(1):\n",
    "    for orig_image, label_image in dataloader:\n",
    "        orig_image = orig_image.cuda()\n",
    "        label_image = label_image.cuda()\n",
    "\n",
    "        # orig_image = orig_image.cpu()\n",
    "        # label_image = label_image.cpu()\n",
    "        print(orig_image.device, label_image.device)\n",
    "        print(orig_image.shape, label_image.shape)\n",
    "        # optmiizer.zero_grad()\n",
    "        # output = model(orig_image)\n",
    "        # loss = criterion(output, label_image)\n",
    "        # loss.backward()\n",
    "        # optimizer.step()\n",
    "# orig_image"
   ]
  },
  {
   "cell_type": "code",
   "execution_count": 94,
   "metadata": {},
   "outputs": [
    {
     "name": "stdout",
     "output_type": "stream",
     "text": [
      "cuda:0 cuda:0\n",
      "torch.Size([234, 3, 1024, 1024]) torch.Size([234, 1, 1024, 1024])\n"
     ]
    }
   ],
   "source": [
    "import torch.optim as optim\n",
    "\n",
    "criterion = nn.BCELoss()\n",
    "optimizer = optim.Adam(model.parameters(), lr=1e-4)\n",
    "\n",
    "num_epochs = 20\n",
    "for epoch in range(num_epochs):\n",
    "    model.train()\n",
    "    running_loss = 0.0\n",
    "    for images, labels in dataloader:\n",
    "        optimizer.zero_grad()\n",
    "        outputs = model(images)\n",
    "        loss = criterion(outputs, labels)\n",
    "        loss.backward()\n",
    "        optimizer.step()\n",
    "        running_loss += loss.item() * images.size(0)\n",
    "    \n",
    "    epoch_loss = running_loss / len(dataloader.dataset)\n",
    "    print(f'Epoch {epoch+1}/{num_epochs}, Loss: {epoch_loss:.4f}')\n"
   ]
  },
  {
   "cell_type": "markdown",
   "metadata": {},
   "source": [
    "### 模型推論\n",
    "1. 打印loss\n",
    "2. 語意分割結果"
   ]
  },
  {
   "cell_type": "code",
   "execution_count": null,
   "metadata": {},
   "outputs": [],
   "source": [
    "model.eval()\n",
    "with torch.no_grad():\n",
    "    for images, labels in dataloader:\n",
    "        outputs = model(images)\n",
    "        # 在這裡可以處理或保存輸出結果\n",
    "        # 例如: 保存結果圖片，計算評估指標等\n"
   ]
  }
 ],
 "metadata": {
  "kernelspec": {
   "display_name": "MP_sideproject_PM",
   "language": "python",
   "name": "python3"
  },
  "language_info": {
   "codemirror_mode": {
    "name": "ipython",
    "version": 3
   },
   "file_extension": ".py",
   "mimetype": "text/x-python",
   "name": "python",
   "nbconvert_exporter": "python",
   "pygments_lexer": "ipython3",
   "version": "3.10.14"
  }
 },
 "nbformat": 4,
 "nbformat_minor": 2
}
